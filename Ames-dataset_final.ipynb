{
 "cells": [
  {
   "cell_type": "markdown",
   "metadata": {},
   "source": [
    "# House price prediction\n",
    "\n",
    "This notebook his my personal take on the kaggle competition \"House Prices: Advanced Regression Techniques\" (see: https://www.kaggle.com/c/house-prices-advanced-regression-techniques).\n",
    "\n",
    "I would like to give credit to the following Kaggle users who helped me by sharing their work:\n",
    "\n",
    "- Goldens https://www.kaggle.com/goldens/house-prices-on-the-top-with-a-simple-model\n",
    "- Pedro Marcelino https://www.kaggle.com/pmarcelino/comprehensive-data-exploration-with-python\n",
    "\n",
    "and more generally, the Kaggle community by sharing their thoughts and advice on the forum.\n",
    "\n",
    "## My approach to this problem\n",
    "\n",
    "My approach is pretty straight-forward, a little bit of data cleansing and then modelling with the off-the-shelf models I know."
   ]
  },
  {
   "cell_type": "code",
   "execution_count": 40,
   "metadata": {},
   "outputs": [],
   "source": [
    "# The packages used in this notebook\n",
    "\n",
    "import pandas as pd\n",
    "import numpy as np\n",
    "import matplotlib.pyplot as plt\n",
    "import seaborn as sns\n",
    "from scipy.stats import skew\n",
    "from sklearn.preprocessing import RobustScaler\n",
    "from sklearn.linear_model import Lasso, LassoCV, Ridge, RidgeCV, ElasticNet, ElasticNetCV, SGDRegressor\n",
    "from sklearn.model_selection import cross_val_score\n",
    "from sklearn.metrics import mean_squared_error\n",
    "from sklearn.neural_network import MLPRegressor\n",
    "from sklearn.ensemble import GradientBoostingRegressor, RandomForestRegressor, StackingRegressor\n",
    "from sklearn.model_selection import GridSearchCV\n",
    "from sklearn.svm import SVR\n",
    "\n",
    "# Two personal functions used in the notebook\n",
    "\n",
    "def mapToOrd(df, cols, mapping):\n",
    "    return(df[cols].apply(lambda x: x.map(mapping)))\n",
    "\n",
    "def rootMSE(model, X, y_true):\n",
    "    y_pred = model.predict(X)\n",
    "    return(np.sqrt(((y_pred-y_true)**2).mean()))"
   ]
  },
  {
   "cell_type": "markdown",
   "metadata": {},
   "source": [
    "## Data preparation\n",
    "\n",
    "This part consist mostly in:\n",
    "\n",
    "- finding an deleting outliers;\n",
    "- finding and replacing missing values;\n",
    "- transforming highly skewed data to normalize them;\n",
    "- using one-hot encoding for categorical data;\n",
    "- Scale data.\n",
    "\n",
    "When replacing missing values, we will keep the training and testing data set seprated to avoid data leakage."
   ]
  },
  {
   "cell_type": "code",
   "execution_count": 41,
   "metadata": {},
   "outputs": [],
   "source": [
    "# Loading data, keeping training and testing separated\n",
    "\n",
    "train = pd.read_csv('train.csv', header = 0)\n",
    "test = pd.read_csv('test.csv', header = 0)\n",
    "train.drop('Id', axis=1, inplace=True)\n",
    "test.drop('Id', axis=1, inplace=True)\n",
    "\n",
    "# Setting the dependant variable\n",
    "target = 'SalePrice'\n",
    "\n",
    "# MSSubClass and YrSold are encoded as integer-valued varaibles but they are categorical variables\n",
    "cols = ['MSSubClass', 'YrSold']\n",
    "train[cols] = train[cols].astype('object')\n",
    "test[cols] = test[cols].astype('object')\n",
    "\n",
    "# Find categorial and numerical values\n",
    "categorical = train.select_dtypes(include=['object']).columns\n",
    "numerical = train.select_dtypes(include=['int64','float64']).columns"
   ]
  },
  {
   "cell_type": "code",
   "execution_count": 42,
   "metadata": {},
   "outputs": [
    {
     "data": {
      "text/plain": [
       "[<matplotlib.lines.Line2D at 0x1014f760>]"
      ]
     },
     "execution_count": 42,
     "metadata": {},
     "output_type": "execute_result"
    },
    {
     "data": {
      "image/png": "[encoded data removed]",
      "text/plain": [
       "<Figure size 432x288 with 1 Axes>"
      ]
     },
     "metadata": {
      "needs_background": "light"
     },
     "output_type": "display_data"
    }
   ],
   "source": [
    "# Below chart will highlight some outliers for the variable GrLivArea in the training data\n",
    "\n",
    "plt.scatter(train['GrLivArea'], train[target])\n",
    "plt.plot([4600, 4600], [0, 900000], 'k-', lw=2)"
   ]
  },
  {
   "cell_type": "code",
   "execution_count": 43,
   "metadata": {},
   "outputs": [
    {
     "name": "stdout",
     "output_type": "stream",
     "text": [
      "For train \n",
      " LotFrontage    259\n",
      "MasVnrArea       8\n",
      "GarageYrBlt     81\n",
      "dtype: int64 \n",
      " For test \n",
      " LotFrontage     227\n",
      "MasVnrArea       15\n",
      "BsmtFinSF1        1\n",
      "BsmtFinSF2        1\n",
      "BsmtUnfSF         1\n",
      "TotalBsmtSF       1\n",
      "BsmtFullBath      2\n",
      "BsmtHalfBath      2\n",
      "GarageYrBlt      78\n",
      "GarageCars        1\n",
      "GarageArea        1\n",
      "dtype: int64\n"
     ]
    }
   ],
   "source": [
    "# Drop outliers for 'GrLivArea'\n",
    "\n",
    "train = train.drop(train[train['GrLivArea']>4600].index)\n",
    "\n",
    "# Inspect missing numerical values\n",
    "\n",
    "print('For train \\n', train[numerical].isnull().sum()[train[numerical].isnull().sum()>0],\n",
    "      '\\n For test \\n', test[numerical.drop(target)].isnull().sum()[test[numerical.drop(target)].isnull().sum()>0])"
   ]
  },
  {
   "cell_type": "code",
   "execution_count": 44,
   "metadata": {},
   "outputs": [
    {
     "name": "stdout",
     "output_type": "stream",
     "text": [
      "For train \n",
      " Alley           1367\n",
      "MasVnrType         8\n",
      "BsmtQual          37\n",
      "BsmtCond          37\n",
      "BsmtExposure      38\n",
      "BsmtFinType1      37\n",
      "BsmtFinType2      38\n",
      "Electrical         1\n",
      "FireplaceQu      690\n",
      "GarageType        81\n",
      "GarageFinish      81\n",
      "GarageQual        81\n",
      "GarageCond        81\n",
      "PoolQC          1452\n",
      "Fence           1177\n",
      "MiscFeature     1404\n",
      "dtype: int64 \n",
      " For test \n",
      " MSZoning           4\n",
      "Alley           1352\n",
      "Utilities          2\n",
      "Exterior1st        1\n",
      "Exterior2nd        1\n",
      "MasVnrType        16\n",
      "BsmtQual          44\n",
      "BsmtCond          45\n",
      "BsmtExposure      44\n",
      "BsmtFinType1      42\n",
      "BsmtFinType2      42\n",
      "KitchenQual        1\n",
      "Functional         2\n",
      "FireplaceQu      730\n",
      "GarageType        76\n",
      "GarageFinish      78\n",
      "GarageQual        78\n",
      "GarageCond        78\n",
      "PoolQC          1456\n",
      "Fence           1169\n",
      "MiscFeature     1408\n",
      "SaleType           1\n",
      "dtype: int64\n"
     ]
    }
   ],
   "source": [
    "# For some variables, NA indicates the absence of the variable (e.g. no garage), those will be replaced by 0\n",
    "numto0 = ['GarageYrBlt', 'GarageCars', 'GarageArea', 'BsmtFinSF1', 'BsmtFinSF2', 'BsmtUnfSF', \n",
    "         'TotalBsmtSF', 'BsmtFullBath', 'BsmtHalfBath', 'MasVnrArea']\n",
    "\n",
    "train[numto0] = train[numto0].fillna(value=0)\n",
    "test[numto0] = test[numto0].fillna(value=0)\n",
    "\n",
    "# For lot frontage we will replace by the mean\n",
    "numtoMean = ['LotFrontage']\n",
    "\n",
    "train[numtoMean] = train[numtoMean].fillna(value=train[numtoMean].mean())\n",
    "test[numtoMean] = test[numtoMean].fillna(value=test[numtoMean].mean())\n",
    "\n",
    "#Inspect missing categorial values\n",
    "\n",
    "print('For train \\n', train[categorical].isnull().sum()[train[categorical].isnull().sum()>0],\n",
    "      '\\n For test \\n', test[categorical].isnull().sum()[test[categorical].isnull().sum()>0])"
   ]
  },
  {
   "cell_type": "code",
   "execution_count": 45,
   "metadata": {},
   "outputs": [
    {
     "name": "stdout",
     "output_type": "stream",
     "text": [
      "For train \n",
      " Series([], dtype: int64) \n",
      " For test \n",
      " Series([], dtype: int64)\n"
     ]
    }
   ],
   "source": [
    "# For some variables, NA indicates the absence of the variable (e.g. no garage), those will be replaced by None\n",
    "catwNA = ['Alley', 'MasVnrType', 'BsmtQual', 'BsmtCond', 'BsmtExposure', 'BsmtFinType1', 'BsmtFinType2', 'Electrical',\n",
    "          'FireplaceQu', 'GarageType', 'GarageFinish', 'GarageQual', 'GarageCond', 'PoolQC', 'Fence', 'MiscFeature', 'Functional']\n",
    "\n",
    "train[catwNA] = train[catwNA].fillna(value='None')\n",
    "test[catwNA] = test[catwNA].fillna(value='None')\n",
    "\n",
    "# For the other we will replace NA by the most frequent value (the mode), this only concern the test set\n",
    "catwoNA = list(set(test[categorical].isnull().sum()[test[categorical].isnull().sum()>0].index)-set(catwNA))\n",
    "\n",
    "test[catwoNA] = test[catwoNA].apply(lambda x: x.fillna(value=x.mode()[0]))\n",
    "\n",
    "# Sanity check, two empty series are expected\n",
    "\n",
    "print('For train \\n', train.isnull().sum()[train.isnull().sum()>0],\n",
    "      '\\n For test \\n', test.isnull().sum()[test.isnull().sum()>0])"
   ]
  },
  {
   "cell_type": "markdown",
   "metadata": {},
   "source": [
    "## Converting ordinal data (optional)\n",
    "\n",
    "Ordinal data are encoded as categorical. To preserve the order of the data we can convert the labels to integer. Since doing this do not gives good result when testing the models, this part of the notebook is entirely commented."
   ]
  },
  {
   "cell_type": "code",
   "execution_count": 46,
   "metadata": {},
   "outputs": [],
   "source": [
    "# order1 = {'Ex' : 4, 'Gd' : 3, 'TA' : 2, 'Fa' : 1, 'Po' : 1, 'None': 0}\n",
    "# catToOrd1 = ['ExterQual', 'ExterCond', 'BsmtQual', 'BsmtCond', 'HeatingQC', 'KitchenQual', 'FireplaceQu', 'GarageQual', \n",
    "#              'GarageCond', 'PoolQC']\n",
    "\n",
    "# order2 = {'Gd': 4, 'Av': 3, 'Mn': 2, 'No': 1, 'None': 0}\n",
    "# catToOrd2 = ['BsmtExposure']\n",
    "\n",
    "# order3 = {'GLQ':6, 'ALQ':5, 'BLQ':4, 'Rec':3, 'LwQ':2, 'Unf':1, 'None':0}\n",
    "# catToOrd3 = ['BsmtFinType1', 'BsmtFinType2']\n",
    "\n",
    "# order4 = {'Typ': 8, 'Min1': 7, 'Min2': 6, 'Mod': 5, 'Maj1': 4, 'Maj2': 3, 'Sev': 2, 'Sal': 1, 'None': 0}\n",
    "# catToOrd4 = ['Functional']\n",
    "\n",
    "# order5 = {'Fin': 3, 'RFn': 2, 'Unf': 1, 'None': 0}\n",
    "# catToOrd5 = ['GarageFinish']\n",
    "\n",
    "# order6 = {'GdPrv': 4, 'MnPrv': 3, 'GdWo': 2, 'MnWw': 1, 'None': 0}\n",
    "# catToOrd6 = ['Fence']\n",
    "\n",
    "# for i in range(1,7):\n",
    "#     train[globals()['catToOrd'+str(i)]] = mapToOrd(train, globals()['catToOrd'+str(i)], globals()['order'+str(i)])\n",
    "#     test[globals()['catToOrd'+str(i)]] = mapToOrd(test, globals()['catToOrd'+str(i)], globals()['order'+str(i)])"
   ]
  },
  {
   "cell_type": "markdown",
   "metadata": {},
   "source": [
    "## Data transformation\n",
    "\n",
    "Now that missing values are replaced we need to:\n",
    "\n",
    "- transform skewed data (log-transformation);\n",
    "- apply one-hot encoding (a.k.a. dummy encoding).\n",
    "\n",
    "For the encoding, training and testing data sets must be concatenated in one dataframe. This concatenation will also be convenient for the log-transformation."
   ]
  },
  {
   "cell_type": "code",
   "execution_count": 47,
   "metadata": {},
   "outputs": [],
   "source": [
    "# Prepare X and y for future model training\n",
    "X = train.drop(target, axis=1)\n",
    "y = train[target]\n",
    "\n",
    "# the len of the training data set must be stored to de-concatenate\n",
    "len_X = X.shape[0]\n",
    "\n",
    "# Concatenation\n",
    "data = pd.concat([X,test], sort=False)\n",
    "\n",
    "# Find highly skewed features and apply log transformation\n",
    "skewed_feats = data[numerical.drop(target)].apply(lambda x: skew(x.dropna())) #compute skewness\n",
    "skewed_feats = skewed_feats[skewed_feats > 0.8]\n",
    "skewed_feats = skewed_feats.index\n",
    "data[skewed_feats] = np.log1p(data[skewed_feats])\n",
    "\n",
    "# Apply log-transformation to the target\n",
    "y = np.log1p(y)\n",
    "\n",
    "# Get dummies\n",
    "data = pd.get_dummies(data)\n",
    "\n",
    "# Retrieve train and test\n",
    "X = data[:len_X]\n",
    "test = data[len_X:]\n",
    "\n",
    "# Scale data\n",
    "scaler = RobustScaler()\n",
    "X = scaler.fit_transform(X)\n",
    "test = scaler.transform(test)"
   ]
  },
  {
   "cell_type": "markdown",
   "metadata": {},
   "source": [
    "## Train test split on the training dataset\n",
    "\n",
    "In order to test the generalization ability of our model, we use the standard train_test_split function to keep a portion of the training data (i.e. the data for which the sale price is known) as testing data."
   ]
  },
  {
   "cell_type": "code",
   "execution_count": 48,
   "metadata": {},
   "outputs": [],
   "source": [
    "from sklearn.model_selection import train_test_split\n",
    "\n",
    "X_train, X_test, y_train, y_test = train_test_split(X, y)"
   ]
  },
  {
   "cell_type": "markdown",
   "metadata": {},
   "source": [
    "## Testing models\n",
    "\n",
    "In this part we will train and compare several models on the test data set. The cost function is the root mean log squarred error (which is the root mean square error between the log prediction and the log true price). Since we used a log transformation for the target variable this metric is very convenient (considering that we only manipulate log-values we will refer to the root mean log squared error as \"mean rmse\").\n",
    "\n",
    "## Cross-validation\n",
    "\n",
    "When relevant, we will use cross-validation to tune the hyperparameter of the model."
   ]
  },
  {
   "cell_type": "code",
   "execution_count": 12,
   "metadata": {},
   "outputs": [
    {
     "name": "stdout",
     "output_type": "stream",
     "text": [
      "alpha chosen :  0.0005\n",
      "Mean rmse training for chosen alpha:  0.08897986271017874\n",
      "Mean rmse testing:  0.10720333225837815\n"
     ]
    }
   ],
   "source": [
    "# First, Lasso regression\n",
    "\n",
    "lasso = LassoCV(alphas = [1, 0.1, 0.001, 0.0005, 0.0001], max_iter=10000, cv=10).fit(X_train, y_train)\n",
    "\n",
    "print('alpha chosen: ', lasso.alpha_)\n",
    "print('rmse training training for chosen alpha: ', \n",
    "      np.sqrt(-cross_val_score(lasso, X_train, y_train, scoring=\"neg_mean_squared_error\", cv = 5)).min())\n",
    "print('rmse testing: ', np.sqrt(mean_squared_error(lasso.predict(X_test), y_test)))\n",
    "\n",
    "# The lasso regression perform nicely with good generalization ability."
   ]
  },
  {
   "cell_type": "code",
   "execution_count": 13,
   "metadata": {},
   "outputs": [
    {
     "name": "stdout",
     "output_type": "stream",
     "text": [
      "alpha chosen :  1.0\n",
      "Mean rmse training for chosen alpha:  0.10607143225259545\n",
      "Mean rmse score testing :  0.11755501159922621\n"
     ]
    }
   ],
   "source": [
    "#Second, Ridge regression\n",
    "\n",
    "ridge = RidgeCV(alphas = [1, 0.1, 0.001, 0.0005, 0.0001], cv=10).fit(X_train, y_train)\n",
    "\n",
    "print('alpha chosen : ', ridge.alpha_)\n",
    "print('rmse training for chosen alpha: ', np.sqrt(-cross_val_score(ridge, X, y, scoring=\"neg_mean_squared_error\", cv = 5)).min())\n",
    "print('rmse testing: ', np.sqrt(mean_squared_error(ridge.predict(X_test), y_test)))\n",
    "\n",
    " # The Ridge regression is also suitable but a little bit less than the lasso."
   ]
  },
  {
   "cell_type": "code",
   "execution_count": 32,
   "metadata": {},
   "outputs": [
    {
     "name": "stdout",
     "output_type": "stream",
     "text": [
      "Min samples leaf chose:  {'min_samples_leaf': 20}\n",
      "Mean rmse training:  [0.14093463 0.14433357 0.15248714 0.16799692]\n",
      "Mean rmse testing:  0.15948276654275553\n"
     ]
    }
   ],
   "source": [
    "# Third, Random forest regression\n",
    "\n",
    "RFR = RandomForestRegressor()\n",
    "parameters = {'min_samples_leaf': [1, 5, 10, 20]}\n",
    "gridRFR = GridSearchCV(RFR, parameters, scoring = rootMSE, cv = 5).fit(X_train, y_train)\n",
    "\n",
    "print('Best parameter: ', gridRFR.best_params_)\n",
    "print('rmse training: ', gridRFR.cv_results_['mean_test_score'])\n",
    "print('rmse testing: ', np.sqrt(mean_squared_error(gridRFR.predict(X_test), y_test)))\n",
    "\n",
    "# Random forest regression performs poorly compared to lasso"
   ]
  },
  {
   "cell_type": "code",
   "execution_count": 15,
   "metadata": {},
   "outputs": [
    {
     "name": "stdout",
     "output_type": "stream",
     "text": [
      "Mean rmse :  [0.12567065 0.12402143 0.12754673 0.12962721]\n",
      "Mean rmse testing :  0.1264489787199797\n"
     ]
    }
   ],
   "source": [
    "# Fourth, gradient boosting\n",
    "\n",
    "parameters = {'min_samples_leaf': [1, 5, 10, 20]}\n",
    "\n",
    "GBR = GradientBoostingRegressor(n_estimators=100, max_depth=3)\n",
    "gridGBR = GridSearchCV(GBR, parameters, scoring = rootMSE, cv = 5).fit(X_train, y_train)\n",
    "\n",
    "print('Best parameter: ', gridGBR.best_params_)\n",
    "print('rmse training for chosen paramater: ', gridGBR.cv_results_['mean_test_score'])\n",
    "print('Mean rmse testing : ', np.sqrt(mean_squared_error(gridGBR.predict(X_test), y_test)))\n",
    "\n",
    "# Gradient boosting performance are average"
   ]
  },
  {
   "cell_type": "code",
   "execution_count": 18,
   "metadata": {},
   "outputs": [
    {
     "name": "stdout",
     "output_type": "stream",
     "text": [
      "Mean rmse :  [0.13421237 0.12958431 0.11973102 0.12858176 0.14165405]\n",
      "Mean rmse testing :  0.12598714976796632\n"
     ]
    }
   ],
   "source": [
    "# Fifth support vector regressor\n",
    "\n",
    "parameters = {'C': [1, 0.5, 0.1, 0.001, 0.0005]}\n",
    "\n",
    "SVregr = SVR(kernel='linear')\n",
    "gridSVR = GridSearchCV(SVregr, parameters, scoring = rootMSE, cv = 5).fit(X_train, y_train)\n",
    "\n",
    "print('Best parameter: ', gridSVR.best_params_)\n",
    "print('rmse training for chosen parameter: ', gridSVR.cv_results_['mean_test_score'])\n",
    "print('rmse testing : ', np.sqrt(mean_squared_error(gridSVR.predict(X_test), y_test)))\n",
    "\n",
    "# SVR performance are average"
   ]
  },
  {
   "cell_type": "code",
   "execution_count": 27,
   "metadata": {},
   "outputs": [
    {
     "name": "stdout",
     "output_type": "stream",
     "text": [
      "Best mean rmse training :  0.08947037410868156\n",
      "alpha chosen :  0.0005\n",
      "l1 chosen :  0.7\n",
      "Mean rmse testing :  0.10773692014910224\n"
     ]
    }
   ],
   "source": [
    "# Sixth, elasctinet\n",
    "\n",
    "elasti = ElasticNetCV(l1_ratio = [.1, .5, .7, .9, .95, .99, 1] ,alphas = [1, 0.1, 0.001, 0.0005, 0.0001], \n",
    "                max_iter=10000, cv=5).fit(X_train, y_train)\n",
    "\n",
    "print('alpha chosen: ', elasti.alpha_)\n",
    "print('l1 chosen: ', elasti.l1_ratio_)\n",
    "print('rmse training for chosen paramaters: ', np.sqrt(-cross_val_score(elasti, X_train, y_train, \n",
    "                                                   scoring=\"neg_mean_squared_error\", cv = 5)).min())\n",
    "print('rmse testing: ', np.sqrt(mean_squared_error(elasti.predict(X_test), y_test)))\n",
    "\n",
    "# Elasticnet model offers performance comparable to a Lasso model"
   ]
  },
  {
   "cell_type": "code",
   "execution_count": 30,
   "metadata": {},
   "outputs": [
    {
     "name": "stdout",
     "output_type": "stream",
     "text": [
      "rmse training :  [0.20704412 0.40588016 0.30128559 0.41418056]\n",
      "Mean rmse testing :  0.32841281596205507\n"
     ]
    }
   ],
   "source": [
    "# Seventh, MLP\n",
    "\n",
    "grid_act = {'activation': ['identity', 'logistic', 'tanh', 'relu']}\n",
    "\n",
    "MLP = MLPRegressor(hidden_layer_sizes=(100,50,50,50))\n",
    "\n",
    "grid_MLP = GridSearchCV(MLP, grid_act, scoring = rootMSE, cv = 5).fit(X_train, y_train)\n",
    "\n",
    "print('rmse training: ', grid_MLP.cv_results_['mean_test_score'])\n",
    "print('Mean rmse testing: ', np.sqrt(mean_squared_error(grid_MLP.predict(X_test), y_test)))\n",
    "\n",
    "# Multi-layer perceptron performs quite poorly!"
   ]
  },
  {
   "cell_type": "markdown",
   "metadata": {},
   "source": [
    "## Stacking regressor\n",
    "\n",
    "All the models above (except the MLP which performs so poorly) will be stacked in one big regressor. The choice of the final (or meta) estimator will be done by comparing several results."
   ]
  },
  {
   "cell_type": "code",
   "execution_count": 31,
   "metadata": {},
   "outputs": [],
   "source": [
    "# Eigth, stacked\n",
    "\n",
    "estimators = [('ridge', Ridge(alpha=1., max_iter=10000)), ('lasso', Lasso(alpha=0.0005, max_iter=100000)),\n",
    "             ('elasti', ElasticNet(l1_ratio = 0.7, alpha=0.0005, max_iter=100000))]\n",
    "\n",
    "# The code below was used to compare several meta-estimator with several paramters. \n",
    "# Since it takes quite long to compute, it has been commented.\n",
    "\n",
    "# for final_estimator in ['Ridge', 'Lasso']:\n",
    "#     print(final_estimator)\n",
    "#     for alpha in [1, 0.1, 0.01, 0.001, 0.0005, 0.0001]:\n",
    "#         if(final_est == 'Ridge'):\n",
    "#             reg = StackingRegressor(estimators=estimators, final_estimator=Ridge(alpha = alpha)).fit(X_train, y_train)\n",
    "#             print('Mean rmse score testing for ', alpha,' = ', np.sqrt(mean_squared_error(reg.predict(X_test), y_test)))\n",
    "#         else:\n",
    "#             reg = StackingRegressor(estimators=estimators, final_estimator=Lasso(alpha = alpha)).fit(X_train, y_train)\n",
    "#             print('Mean rmse score testing for ', alpha,' = ', np.sqrt(mean_squared_error(reg.predict(X_test), y_test)))\n",
    "# double loop above give the best rmse testing for lasso with alpha = 0.001\n",
    "\n",
    "# for alpha in [1, 0.1, 0.01, 0.001, 0.0005, 0.0001]:\n",
    "#     for l1_ratio in [.1, .5, .7, .9, .95, .99, 1]:\n",
    "#         reg = StackingRegressor(estimators=estimators, \n",
    "#                                 final_estimator=ElasticNet(alpha = alpha, l1_ratio = l1_ratio)).fit(X_train, y_train)\n",
    "#         print('Mean rmse score testing for ', alpha, ' ', l1_ratio, ' = ', \n",
    "#               np.sqrt(mean_squared_error(reg.predict(X_test), y_test)))\n",
    "\n",
    "# double loop above give the best rmse testing for alpha = 0.0005 l1_ratio = 0.9"
   ]
  },
  {
   "cell_type": "code",
   "execution_count": 36,
   "metadata": {},
   "outputs": [
    {
     "name": "stdout",
     "output_type": "stream",
     "text": [
      "rmse score testing for Lasso:  0.10768773658560624\n",
      "rmse score testing for Elastic: 0.1079094748994152\n"
     ]
    }
   ],
   "source": [
    "# Finally we compare two choices of meta-estimator with the best estimation for the hyper-paramaters.\n",
    "\n",
    "reg1 = StackingRegressor(estimators=estimators, final_estimator=Lasso(alpha = 0.001, max_iter=100000)).fit(X_train, y_train)\n",
    "reg2 = StackingRegressor(estimators=estimators, \n",
    "                         final_estimator=ElasticNet(alpha = 0.0005, l1_ratio = 0.9, max_iter=100000)).fit(X_train, y_train)\n",
    "print('rmse testing for Lasso: ', np.sqrt(mean_squared_error(reg1.predict(X_test), y_test)))\n",
    "print('rmse testing for Elastic:', np.sqrt(mean_squared_error(reg2.predict(X_test), y_test)))\n",
    "\n",
    "# Lasso is found to perform slighly better. Nonetheless, stacking regressor do not improve the performance on the test set.\n",
    "# The pertinence of using such a technique is therefore disputed for this example."
   ]
  },
  {
   "cell_type": "markdown",
   "metadata": {},
   "source": [
    "## Final estimation\n",
    "\n",
    "Now that we found the best pick for the final estimator we will just train it on the full training data.\n",
    "We should not forget to inverse the transformation applied on the sale price, i.e. exponentiate it."
   ]
  },
  {
   "cell_type": "code",
   "execution_count": 38,
   "metadata": {},
   "outputs": [
    {
     "name": "stdout",
     "output_type": "stream",
     "text": [
      "alpha chosen :  0.0005\n",
      "rmse for alpha chosen:  0.10217841713497391\n"
     ]
    }
   ],
   "source": [
    "# Model 1 : lasso\n",
    "\n",
    "model = LassoCV(alphas = [1, 0.1, 0.001, 0.0005, 0.0001], max_iter=10000, cv=10).fit(X, y)\n",
    "\n",
    "print('alpha chosen : ', model.alpha_) \n",
    "print('rmse for alpha chosen: ', np.sqrt(-cross_val_score(model, X, y, scoring=\"neg_mean_squared_error\", cv = 5)).min())\n",
    "\n",
    "# Prediction with the model\n",
    "res = np.expm1(model.predict(test))\n",
    "pd.DataFrame(res, index=list(range(1461,2920)), columns=['SalePrice']).to_csv(\"mypred.csv\", index_label='Id')\n",
    "\n",
    "# The chosen alpha is consistent with the one found during testing.\n",
    "# Those predictions scored 0.11904, in the top 21% as of 07/02/2020"
   ]
  },
  {
   "cell_type": "code",
   "execution_count": 39,
   "metadata": {},
   "outputs": [
    {
     "name": "stdout",
     "output_type": "stream",
     "text": [
      "Mean mse score :  0.09161238782968201\n"
     ]
    }
   ],
   "source": [
    "# Model 2 : stacked regressors\n",
    "\n",
    "estimators = [('ridge', Ridge(alpha=1.)), ('lasso', Lasso(alpha=0.0005, max_iter=10000)), ('forest', RandomForestRegressor()),\n",
    "             ('gradient', GradientBoostingRegressor(min_samples_leaf=10)), ('SVR', SVR(kernel='linear', C=0.1)),\n",
    "             ('elasti', ElasticNet(l1_ratio = 0.7, alpha=0.0005, max_iter=10000))]\n",
    "\n",
    "stack = StackingRegressor(estimators=estimators, \n",
    "                         final_estimator=Lasso(alpha = 0.001, max_iter=100000)).fit(X, y)\n",
    "\n",
    "print('Mean mse score : ', np.sqrt(mean_squared_error(stack.predict(X), y)))\n",
    "\n",
    "res = np.expm1(stack.predict(test))\n",
    "pd.DataFrame(res, index=list(range(1461,2920)), columns=['SalePrice']).to_csv(\"mypred_Stacked.csv\", index_label='Id')\n",
    "\n",
    "# Those predictions scored 0.11860, in the top 20% as of 07/02/2020"
   ]
  },
  {
   "cell_type": "markdown",
   "metadata": {},
   "source": [
    "## Conclusion\n",
    "\n",
    "By stacking regressors we were able to reach a decent rmse on 50% of the log-price of the test set. \n",
    "We still do not explain why stacking performance were lower than simple lasso while testing."
   ]
  }
 ],
 "metadata": {
  "kernelspec": {
   "display_name": "Python 3",
   "language": "python",
   "name": "python3"
  },
  "language_info": {
   "codemirror_mode": {
    "name": "ipython",
    "version": 3
   },
   "file_extension": ".py",
   "mimetype": "text/x-python",
   "name": "python",
   "nbconvert_exporter": "python",
   "pygments_lexer": "ipython3",
   "version": "3.8.1"
  }
 },
 "nbformat": 4,
 "nbformat_minor": 4
}
