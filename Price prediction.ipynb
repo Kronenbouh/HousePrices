{
 "cells": [
  {
   "cell_type": "code",
   "execution_count": 587,
   "metadata": {},
   "outputs": [],
   "source": [
    "def R2compute(data, target, var):\n",
    "    #data: in form of a pandas.DataFrame\n",
    "    #target: the colulmn name for the target dependant vaeriable\n",
    "    #var: the column name for the independant variable\n",
    "    meanP = data[target].mean()\n",
    "    grouped = data.groupby(data[var])[target]\n",
    "    SSM = sum(grouped.size()*(grouped.mean() - meanP)**2)\n",
    "    SSR = sum(grouped.apply(lambda x: (x-x.mean())**2))\n",
    "    return(SSM/(SSM+SSR))"
   ]
  },
  {
   "cell_type": "code",
   "execution_count": 589,
   "metadata": {},
   "outputs": [],
   "source": [
    "import pandas as pd\n",
    "import seaborn as sns\n",
    "import matplotlib.pyplot as plt\n",
    "import numpy as np\n",
    "from scipy.stats import skew\n",
    "from sklearn.preprocessing import RobustScaler\n",
    "from sklearn.linear_model import Lasso, LassoCV\n",
    "from sklearn.model_selection import cross_val_score\n",
    "\n",
    "train = pd.read_csv('train.csv', header = 0)\n",
    "test = pd.read_csv('test.csv', header = 0)\n",
    "train.drop('Id', axis=1, inplace=True)\n",
    "test.drop('Id', axis=1, inplace=True)\n",
    "\n",
    "target = 'SalePrice'\n",
    "\n",
    "categorial = train.select_dtypes(include=['object']).columns\n",
    "numerical = data.select_dtypes(include=['int64','float64']).columns\n",
    "#Replace missing values\n",
    "train[numerical] = train[numerical].fillna(value=train[numerical].mean())\n",
    "train[categorial] = train[categorial].fillna(value='None')\n",
    "\n",
    "test[numerical] = test[numerical].fillna(value=test[numerical].mean())\n",
    "test[categorial] = test[categorial].fillna(value='None')\n",
    "\n",
    "corrmat = train.corr()\n",
    "toKeep = list(corrmat[target][abs(corrmat[target].values) >= 0].drop(target).index)\n",
    "R2list = train.apply(lambda x: R2compute(train, target, x.name) if (x.name in categorial) else 0)\n",
    "toKeep += list(R2list[R2list>=0.0001].index)\n",
    "\n",
    "X = train[toKeep]\n",
    "test = test[toKeep]\n",
    "y = train[target]\n",
    "len_X = X.shape[0]\n",
    "\n",
    "data = pd.concat([X,test], sort=False)\n",
    "\n",
    "#Find categorial and numerical values\n",
    "\n",
    "#Find skewed features and apply log transformation\n",
    "skewed_feats = data[numerical].apply(lambda x: skew(x.dropna())) #compute skewness\n",
    "skewed_feats = skewed_feats[skewed_feats > 0.75]\n",
    "skewed_feats = skewed_feats.index\n",
    "data[skewed_feats] = np.log1p(data[skewed_feats])\n",
    "#Apply log-transformation to the target\n",
    "y = np.log1p(y)\n",
    "\n",
    "#Get dummies\n",
    "data = pd.get_dummies(data)\n",
    "\n",
    "#Retrieve train and test\n",
    "X = data[:len_X]\n",
    "test = data[len_X:]"
   ]
  },
  {
   "cell_type": "code",
   "execution_count": 590,
   "metadata": {},
   "outputs": [
    {
     "name": "stdout",
     "output_type": "stream",
     "text": [
      "Mean mse score :  0.12263031248711356\n",
      "alpha chosen :  0.0005\n"
     ]
    }
   ],
   "source": [
    "scaler = RobustScaler()\n",
    "X = scaler.fit_transform(X)\n",
    "test = scaler.transform(test)\n",
    "model = LassoCV(alphas = [1, 0.1, 0.001, 0.0005], max_iter=10000, cv=5).fit(X, y)\n",
    "print('Mean mse score : ', np.sqrt(-cross_val_score(model, X, y, scoring=\"neg_mean_squared_error\", cv = 5)).mean())\n",
    "print('alpha chosen : ', model.alpha_)"
   ]
  },
  {
   "cell_type": "code",
   "execution_count": 591,
   "metadata": {},
   "outputs": [],
   "source": [
    "res = np.expm1(model.predict(test))\n",
    "\n",
    "pd.DataFrame(res, index=list(range(1461,2920)), columns=['SalePrice']).to_csv(\"mypred2.csv\", index_label='Id')"
   ]
  }
 ],
 "metadata": {
  "kernelspec": {
   "display_name": "Python 3",
   "language": "python",
   "name": "python3"
  },
  "language_info": {
   "codemirror_mode": {
    "name": "ipython",
    "version": 3
   },
   "file_extension": ".py",
   "mimetype": "text/x-python",
   "name": "python",
   "nbconvert_exporter": "python",
   "pygments_lexer": "ipython3",
   "version": "3.7.4"
  }
 },
 "nbformat": 4,
 "nbformat_minor": 2
}
